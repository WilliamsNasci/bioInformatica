{
  "nbformat": 4,
  "nbformat_minor": 0,
  "metadata": {
    "colab": {
      "name": "bioInformatica_humanoXbacteria.ipynb",
      "provenance": [],
      "collapsed_sections": []
    },
    "kernelspec": {
      "name": "python3",
      "display_name": "Python 3"
    },
    "language_info": {
      "name": "python"
    }
  },
  "cells": [
    {
      "cell_type": "markdown",
      "source": [
        "#***Comparação entra a estrutura ribossomal de um ser humano e uma bacteria***\n",
        "##(Human X *Escherichia coli*) 🧬\n",
        "---\n",
        "> A comparação será feita a partir dos pares de nucleotídeos\n",
        "\n"
      ],
      "metadata": {
        "id": "gZR7V5kwemTt"
      }
    },
    {
      "cell_type": "code",
      "source": [
        "input = open(\"human.fasta\").read()\n",
        "output = open(\"human.html\", \"w\")\n",
        "\n",
        "count = {}\n",
        "\n",
        "# Funcao para criar as combinacoes dos conjuntos de moleculas possiveis em um DNA e passando o valor = 0 para as mesmas\n",
        "for i in ['A', 'T', 'C', 'G']: \n",
        "  for j in ['A', 'T', 'C', 'G']:\n",
        "    count[i+j] = 0\n",
        "\n",
        "# Funcao para tirar a quebra de linha (\\n) que existem no arquivo\n",
        "input = input.replace(\"\\n\", \"\")\n",
        "\n",
        "\n",
        "# Funcao que percorre e conta quantos conjutos existem dentro do dicionario\n",
        "\n",
        "#O -1 e para nao contar o ultimo par\n",
        "for k in range(len(input)-1): \n",
        "  count[input[k]+input[k+1]] += 1 \n",
        "\n",
        "# Gerar um HTML\n",
        "\n",
        "counter = 1\n",
        "for k in count:\n",
        "  #Calculo para mudar a cor conforme a incidencia do par\n",
        "  transparency = count[k]/max(count.values()) \n",
        "  #Codigo para gerar o HTML\n",
        "  output.write(\"<div style='width:100px; border:1px solid #111; color:#fff; height:100px; float:left; background-color:rgba(0, 0, 255, \"+str(transparency)+\"')>\"+k+\"</div>\")\n",
        "\n",
        "  if counter%4 == 0:\n",
        "    output.write(\"<div style='clear:both'></div>\")\n",
        "\n",
        "  counter+=1\n",
        "\n",
        "output.close()"
      ],
      "metadata": {
        "id": "0c7oth3ug9Zw"
      },
      "execution_count": null,
      "outputs": []
    }
  ]
}